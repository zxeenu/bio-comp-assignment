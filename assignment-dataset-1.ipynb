{
 "metadata": {
  "language_info": {
   "codemirror_mode": {
    "name": "ipython",
    "version": 3
   },
   "file_extension": ".py",
   "mimetype": "text/x-python",
   "name": "python",
   "nbconvert_exporter": "python",
   "pygments_lexer": "ipython3",
   "version": "3.9.1"
  },
  "orig_nbformat": 2,
  "kernelspec": {
   "name": "python391jvsc74a57bd0bfffb00b860edef9d7d71c81d08eea3505a71f957dc4a9fc0bb41619100f8c57",
   "display_name": "Python 3.9.1 64-bit"
  }
 },
 "nbformat": 4,
 "nbformat_minor": 2,
 "cells": [
  {
   "cell_type": "code",
   "execution_count": 9,
   "metadata": {},
   "outputs": [],
   "source": [
    "import pandas as pd\n",
    "import numpy as np\n",
    "import matplotlib.pyplot as plt\n",
    "import random\n"
   ]
  },
  {
   "cell_type": "code",
   "execution_count": 10,
   "metadata": {},
   "outputs": [],
   "source": [
    "# dataset1 = pd.read_csv(\"data1.txt\", delimiter = \"\\t\", skiprows = [0,0])\n",
    "dataset2 = pd.read_csv(\"data2.txt\", delimiter = \"\\t\")\n",
    "dataset3 = pd.read_csv(\"data3.txt\", delimiter = \"\\t\")"
   ]
  },
  {
   "cell_type": "code",
   "execution_count": 11,
   "metadata": {},
   "outputs": [],
   "source": [
    "dataset1 = pd.read_csv(\"data1.txt\", delim_whitespace=True, dtype=str) # 32 rows x 5 variables (+ class, space separated, CR EOL)"
   ]
  },
  {
   "cell_type": "code",
   "execution_count": 12,
   "metadata": {},
   "outputs": [
    {
     "output_type": "execute_result",
     "data": {
      "text/plain": [
       "'00000'"
      ]
     },
     "metadata": {},
     "execution_count": 12
    }
   ],
   "source": [
    "dataset1.loc[0][0]"
   ]
  },
  {
   "cell_type": "code",
   "execution_count": 13,
   "metadata": {},
   "outputs": [
    {
     "output_type": "stream",
     "name": "stderr",
     "text": [
      "<ipython-input-13-8fabb802a3bc>:7: DeprecationWarning: The binary mode of fromstring is deprecated, as it behaves surprisingly on unicode inputs. Use frombuffer instead\n  np_bit_string = np.fromstring(bit_string,'u1') - ord('0')\n<ipython-input-13-8fabb802a3bc>:8: DeprecationWarning: The binary mode of fromstring is deprecated, as it behaves surprisingly on unicode inputs. Use frombuffer instead\n  np_output_string = np.fromstring(output_string,'u1') - ord('0')\n"
     ]
    }
   ],
   "source": [
    "np_data_set = []\n",
    "\n",
    "\n",
    "for item in dataset1.itertuples():\n",
    "    bit_string = str(item[1])\n",
    "    output_string = str(item[2])\n",
    "    np_bit_string = np.fromstring(bit_string,'u1') - ord('0')\n",
    "    np_output_string = np.fromstring(output_string,'u1') - ord('0')\n",
    "    # print(np_bit_string, np_output_string)\n",
    "    np_data_set.append([np_bit_string, np_output_string])"
   ]
  },
  {
   "cell_type": "code",
   "execution_count": 680,
   "metadata": {},
   "outputs": [
    {
     "output_type": "execute_result",
     "data": {
      "text/plain": [
       "False"
      ]
     },
     "metadata": {},
     "execution_count": 680
    }
   ],
   "source": [
    "def schema_model(schema_bitstring_array: 'np.ndarray', schema_target: 'np.ndarray', test_data_array: 'np.ndarray', test_target_result: 'np.ndarray') -> bool:\n",
    "    \"\"\"\n",
    "    This function handles np.ndarray of 1D, lists, that is to say.\n",
    "    : schema is the mask\n",
    "    : test is data from the dataset\n",
    "    \"\"\"\n",
    "\n",
    "    # we take the schmea (the values that are 1), and take values as per it from the test_data_array\n",
    "    # 0 to 5 is the schema (the 5th index is actually the 6th value, but numpy doesnt touch the last value. but only the value before that)\n",
    "    # ie: we use the schmea as a mask/ filter over the test data and extract those values (which are zeros or ones)\n",
    "\n",
    "    # print(schema_bitstring_array, \"schema_bitstring_array\")\n",
    "    # print(schema_bitstring_array[0:5], \"schema_bitstring_array[0:5]\")\n",
    "    # print(test_data_array, \"test_data_array\")\n",
    "    data_array = test_data_array[schema_bitstring_array == 1]\n",
    "    # print(data_array, \"filtered data\")\n",
    "    \n",
    "    # we use the sum the filtered data into an integer\n",
    "    sum_of_data_array = data_array.sum()\n",
    "    # print(sum_of_data_array)\n",
    "\n",
    "    # this is hypothesized output from the schema\n",
    "    schema_target_output = sum_of_data_array >= schema_target[0]\n",
    "\n",
    "    # compare against the actual output\n",
    "    actual_output = None \n",
    "    \n",
    "    if test_target_result[0] == 0:\n",
    "        actual_output = False\n",
    "    elif test_target_result[0] == 1:\n",
    "        actual_output = True\n",
    "    \n",
    "    does_both_match = actual_output and schema_target_output\n",
    "\n",
    "    # print(actual_output, schema_target_output, does_both_match)\n",
    "    return does_both_match\n",
    "\n",
    "\n",
    "\n",
    "# first 5 values have to be bool values, the 6th value has to be a value between 1 and 5\n",
    "random_matrix_array = np.random.randint(2,size=(1,5))\n",
    "random_matrix_array_2 = np.random.randint(2,size=(1,5))\n",
    "random_target = np.random.choice([0, 1], size=(1, 1)) # actual target output\n",
    "random_target_t = np.random.choice([0, 1, 2, 3, 4], size=(1, 1)) # hypothesized random output // np_data_set\n",
    "\n",
    "\n",
    "# print(\"random schema\", random_matrix_array[0], \"random sum threhold\", random_target_t[0])\n",
    "# print(\"actual data  \", random_matrix_array_2[0], \"output             \", random_target[0])\n",
    "# schema_model(schema_bitstring_array=random_matrix_array[0], schema_target=random_target_t[0], test_data_array=random_matrix_array_2[0], test_target_result=random_target[0])\n",
    "\n",
    "random_int = random.randrange(0, 30, 1)\n",
    "\n",
    "# print(\"random schema\", random_matrix_array[0], \"random sum threhold\", random_target_t[0])\n",
    "# print(\"actual data  \", np_data_set[random_int][0], \"output             \", np_data_set[random_int][1])\n",
    "\n",
    "schema_model(schema_bitstring_array=random_matrix_array[0], schema_target=random_target_t[0], test_data_array=np_data_set[random_int][0], test_target_result=np_data_set[random_int][1])"
   ]
  },
  {
   "cell_type": "code",
   "execution_count": 1181,
   "metadata": {},
   "outputs": [
    {
     "output_type": "stream",
     "name": "stdout",
     "text": [
      "0.0 [1 1 0 0 1] [20 39 11 82 48] [139]\n0.0 [0 0 1 1 0] [88 83 40 39 95] [250]\n12.0 [0 0 1 1 1] [73 94 24 49 42] [37]\n9.0 [1 0 1 1 1] [84 49 19 28 28] [65]\n8.0 [1 0 1 0 1] [79 97 10 42 28] [39]\n0.0 [0 0 0 0 0] [40 55 55 57 72] [39]\n0.0 [0 1 1 0 0] [85 24 39 34 92] [118]\n8.0 [0 1 1 1 0] [68 61 72 76 67] [116]\n2.0 [1 1 0 0 1] [54 73 17 85 61] [168]\n0.0 [1 1 0 1 1] [52  4 41 11 25] [113]\n4.0 [1 0 0 1 1] [72  8 96  6 97] [158]\n0.0 [1 1 1 0 0] [25 86 31 94 55] [166]\n0.0 [0 1 0 0 0] [ 8 73 83 23 58] [221]\n0.0 [1 1 0 1 1] [26 74 64 98 45] [245]\n0.0 [1 1 0 0 1] [53 35 57 99 68] [228]\n12.0 [1 1 0 0 0] [86 82 16  9 29] [34]\n8.0 [0 0 1 0 1] [10  0 67 47 47] [55]\n15.0 [1 0 1 1 1] [11 39  6 30  3] [3]\n1.0 [1 0 1 1 1] [89 78 91 49 99] [316]\n11.0 [0 1 1 1 1] [82 16 46 39 65] [60]\n12.0 [1 0 1 0 0] [32 61 80 29 15] [19]\n12.0 [0 1 0 0 1] [39 60 19 99 84] [30]\n14.0 [0 1 1 1 1] [19 92 69  7 32] [28]\n12.0 [1 0 1 0 1] [ 0 33 48 14 92] [20]\n0.0 [0 1 0 0 1] [18  7 15 53 23] [52]\n15.0 [1 1 1 1 0] [23 68 73 37  3] [20]\n0.0 [0 1 0 0 0] [64 30 78 65 83] [141]\n4.0 [0 0 1 1 1] [74 92 32 81 49] [120]\n8.0 [0 0 1 1 0] [68  6  1 96 38] [58]\n0.0 [0 1 0 1 1] [62 93 18 68 36] [236]\n0.0 [1 1 0 1 1] [24  8 47 63 85] [196]\n0.0 [0 0 1 1 0] [ 3  1  5 76 33] [118]\n0.0 [1 0 0 0 0] [34 93 72  1 92] [180]\n15.0 [1 0 1 1 1] [58 11 30 28 99] [3]\n2.0 [0 1 1 0 1] [79 44 77  2 69] [154]\n2.0 [1 1 0 0 1] [62 82 84  1 22] [145]\n10.0 [1 1 1 0 0] [55 14 11 85 84] [18]\n0.0 [0 1 1 1 0] [39 35  7 46 34] [93]\n13.0 [1 1 1 1 0] [51 13 26 78 50] [35]\n14.0 [1 0 1 1 1] [ 3 40 56 72 37] [20]\n0.0 [1 1 0 1 1] [95 43 75 34 19] [265]\n0.0 [1 0 1 1 1] [96 73 32 13 70] [240]\n8.0 [1 0 0 0 0] [84  7 11 28 12] [48]\n0.0 [0 0 0 0 1] [30 83 45 71 35] [124]\n0.0 [1 1 0 1 1] [38  3 40 75 34] [185]\n6.0 [1 0 1 0 1] [17 29 32 36 14] [44]\n0.0 [0 1 1 0 1] [45 63 71 96 57] [208]\n0.0 [1 0 0 1 0] [36 64 51  4 82] [122]\n0.0 [1 0 1 0 1] [31 42 36 93 32] [230]\n0.0 [0 0 1 1 1] [ 1 50  0 84 77] [195]\n12.0 [0 1 0 0 1] [26 91 66 18 45] [9]\n0.0 [1 1 1 0 1] [90 33 95 31 46] [291]\n6.0 [1 1 1 1 0] [ 1 91 36 37 32] [106]\n0.0 [0 1 0 0 1] [62 94 69 84 10] [152]\n12.0 [1 1 0 1 0] [90 64 66 19 45] [46]\n2.0 [0 1 1 1 1] [21 20 49 85 25] [159]\n4.0 [1 1 0 0 0] [54 94 89  7 84] [98]\n0.0 [1 0 1 0 1] [13 40 70 99 37] [145]\n6.0 [1 0 0 1 1] [66 21 64 99 62] [150]\n11.0 [1 1 1 1 0] [61  6 89  6  2] [64]\n0.0 [0 1 1 0 0] [ 1 55 89 59 62] [171]\n4.0 [1 1 0 1 1] [16 16 17 95 39] [131]\n10.0 [1 0 1 1 1] [ 1 64 40 92 38] [44]\n0.0 [0 1 0 1 0] [15 24 24 68 24] [145]\n0.0 [0 0 0 0 0] [93 99 67 28 80] [165]\n4.0 [0 1 1 1 0] [26 65 96 33 68] [155]\n11.0 [1 1 1 1 0] [51 26 59 48 99] [61]\n8.0 [1 0 0 0 0] [92  1 54 17 51] [44]\n14.0 [1 1 1 0 1] [64 77 56 38 34] [47]\n0.0 [0 0 1 0 1] [28 75  9  7 70] [124]\n2.0 [1 1 1 0 0] [19 52 96 42 80] [161]\n2.0 [1 1 1 0 0] [79 18 91 27 86] [174]\n0.0 [0 1 0 0 1] [67 55 63 22 65] [216]\n0.0 [0 1 0 0 0] [57 23 24 41 50] [118]\n0.0 [1 0 0 1 0] [70 25 52 45 75] [191]\n4.0 [1 1 0 0 0] [82 78  6 63 41] [110]\n8.0 [1 1 1 0 0] [68 42 70 39 33] [77]\n0.0 [1 0 1 0 0] [18 64 83 73 25] [215]\n0.0 [1 1 1 0 0] [27 55 57 92 74] [271]\n0.0 [0 0 0 1 0] [77 22 96 79 69] [271]\n0.0 [1 1 0 1 0] [81 82 38 40 82] [248]\n0.0 [1 1 0 0 0] [89 88 92 16 69] [320]\n0.0 [1 0 1 0 0] [31 75 52 98 48] [196]\n12.0 [1 1 0 0 1] [20  1 11 12 20] [2]\n4.0 [1 0 1 1 0] [85 42 34 10 27] [113]\n3.0 [1 1 1 1 0] [56 16 53 47 92] [125]\n2.0 [1 1 0 1 0] [94 23 88 80 13] [182]\n8.0 [0 1 0 0 0] [47 73 41 23 75] [6]\n0.0 [0 1 1 0 1] [90 29  7  9 23] [118]\n12.0 [0 1 1 0 1] [14 13 88 15 67] [18]\n0.0 [1 1 0 0 1] [ 0  3 75 37 15] [65]\n2.0 [1 1 0 1 0] [94 62 77 34 31] [170]\n0.0 [1 0 0 1 1] [40 78 48 63 65] [288]\n6.0 [1 1 0 1 1] [ 5 19 53  0 61] [63]\n12.0 [0 1 0 1 0] [ 5 32 70 83 81] [14]\n0.0 [0 1 1 0 0] [69 16 20 21 93] [176]\n0.0 [0 0 1 0 0] [72 38 20  7 13] [63]\n8.0 [1 1 0 0 1] [38  7 29 94 93] [84]\n2.0 [1 1 0 1 0] [98 87 52 96 52] [200]\n12.0 [1 1 0 0 1] [83 32 18  3 76] [74]\n"
     ]
    }
   ],
   "source": [
    "def schema_model_v2(schema_bitstring_array: 'np.ndarray', schema_target: 'np.ndarray', schema_value_map: 'np.ndarray', test_data_array: 'np.ndarray', test_target_result: 'np.ndarray') -> bool:\n",
    "    \"\"\"\n",
    "    This function handles np.ndarray of 1D, lists, that is to say.\n",
    "    : schema is the mask\n",
    "    : test is data from the dataset\n",
    "    \"\"\"\n",
    "    # print(test_data_array, \" \", schema_value_map)\n",
    "\n",
    "    data_array = test_data_array[schema_bitstring_array == 1]\n",
    "    value_array = schema_value_map[schema_bitstring_array == 1]\n",
    "    mult_array = np.matmul(data_array, value_array)\n",
    "\n",
    "    # print(data_array, \"filtered data\")\n",
    "    \n",
    "    # we use the sum the filtered data into an integer\n",
    "    sum_of_data_array = mult_array.sum()\n",
    "    # print(sum_of_data_array)\n",
    "\n",
    "    # this is hypothesized output from the schema\n",
    "    schema_target_output = sum_of_data_array >= schema_target[0]\n",
    "\n",
    "    # compare against the actual output\n",
    "    actual_output = None \n",
    "    \n",
    "    if test_target_result[0] == 0:\n",
    "        actual_output = False\n",
    "    elif test_target_result[0] == 1:\n",
    "        actual_output = True\n",
    "    \n",
    "    does_both_match = actual_output and schema_target_output\n",
    "\n",
    "    # print(actual_output, schema_target_output, does_both_match)\n",
    "    return does_both_match\n",
    "\n",
    "#####################################################################\n",
    "\n",
    "class Chromosome:\n",
    "    def __init__(self):\n",
    "        # the schema for fitness function is the genome, it is an array of [[Bool, Bool, Bool, Bool, Bool], [1 to 5]]\n",
    "        self.dna_schema = []\n",
    "        self.dna_schema_value_map = []\n",
    "        self.dna_target = []\n",
    "        self.fitness = 0.0\n",
    "\n",
    "    def initialize(self):\n",
    "        random_matrix_array = np.random.randint(2,size=(1,5))\n",
    "        self.dna_schema = random_matrix_array[0]\n",
    "\n",
    "\n",
    "        random_matrix_array_2 = np.random.randint(100,size=(1,5))\n",
    "        self.dna_schema_value_map = random_matrix_array_2[0]\n",
    "\n",
    "        # the schema function works against numpy arrays, so just wrap the target in one too\n",
    "        # random_target  = np.random.choice([0, 1, 2, 3, 4, 5], size=(1, 1))\n",
    "\n",
    "        max_target = random.randint(1, random_matrix_array_2.sum())\n",
    "        np_random_target_2 = np.array([max_target])\n",
    "        self.dna_target = np_random_target_2\n",
    "\n",
    "        # random_target = random_matrix_array.sum()\n",
    "        # np_random_target = np.array([random_target])\n",
    "        # self.dna_target = np_random_target\n",
    "        # print(self.dna_target)\n",
    "\n",
    "    def calculate_fitness(self, actual_dataset, fitness_function):\n",
    "        # actual_data_string = actual_dataset[1][0]\n",
    "        # actual_result = actual_dataset[1][1]\n",
    "\n",
    "        # is_match = fitness_function(schema_bitstring_array=self.dna_schema, schema_target=self.dna_target, test_data_array=actual_data_string, test_target_result=actual_result)\n",
    "        # print(is_match)\n",
    "\n",
    "\n",
    "        for actual_data_string, actual_result in actual_dataset:\n",
    "            is_match = fitness_function(schema_bitstring_array=self.dna_schema, \n",
    "                                        schema_target=self.dna_target, \n",
    "                                        schema_value_map=self.dna_schema_value_map, \n",
    "                                        test_data_array=actual_data_string, \n",
    "                                        test_target_result=actual_result)\n",
    "            \n",
    "            if is_match:\n",
    "                self.fitness+=1\n",
    "\n",
    "        print(self.fitness, self.dna_schema, self.dna_schema_value_map, self.dna_target)\n",
    "\n",
    "    def cross_over(self):\n",
    "        pass\n",
    "\n",
    "    def mutate(self):\n",
    "        pass\n",
    "\n",
    "    def __str__(self):\n",
    "        return f\"schema: {self.dna_schema}, target: {self.dna_target}, value_map: { self.dna_schema_value_map }\"\n",
    "\n",
    "    \n",
    "    def __repr__(self):\n",
    "        return f\"schema: {self.dna_schema}, target: {self.dna_target}, value_map: { self.dna_schema_value_map }\"\n",
    "\n",
    "\n",
    "for _ in range(0, 100):\n",
    "    x = Chromosome()\n",
    "    x.initialize()\n",
    "    x.calculate_fitness(actual_dataset=np_data_set, fitness_function=schema_model_v2)"
   ]
  },
  {
   "cell_type": "code",
   "execution_count": 860,
   "metadata": {},
   "outputs": [
    {
     "output_type": "execute_result",
     "data": {
      "text/plain": [
       "0"
      ]
     },
     "metadata": {},
     "execution_count": 860
    }
   ],
   "source": []
  },
  {
   "cell_type": "code",
   "execution_count": null,
   "metadata": {},
   "outputs": [],
   "source": []
  }
 ]
}