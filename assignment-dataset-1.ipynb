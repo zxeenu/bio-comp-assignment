{
 "metadata": {
  "language_info": {
   "codemirror_mode": {
    "name": "ipython",
    "version": 3
   },
   "file_extension": ".py",
   "mimetype": "text/x-python",
   "name": "python",
   "nbconvert_exporter": "python",
   "pygments_lexer": "ipython3",
   "version": "3.9.1"
  },
  "orig_nbformat": 2,
  "kernelspec": {
   "name": "python3",
   "display_name": "Python 3.9.1 64-bit"
  },
  "interpreter": {
   "hash": "bfffb00b860edef9d7d71c81d08eea3505a71f957dc4a9fc0bb41619100f8c57"
  }
 },
 "nbformat": 4,
 "nbformat_minor": 2,
 "cells": [
  {
   "cell_type": "code",
   "execution_count": 17,
   "metadata": {},
   "outputs": [],
   "source": [
    "import pandas as pd\n",
    "import numpy as np\n",
    "import matplotlib.pyplot as plt\n",
    "import random\n",
    "import copy\n"
   ]
  },
  {
   "cell_type": "code",
   "execution_count": 18,
   "metadata": {},
   "outputs": [],
   "source": [
    "# dataset1 = pd.read_csv(\"data1.txt\", delimiter = \"\\t\", skiprows = [0,0])\n",
    "dataset2 = pd.read_csv(\"data2.txt\", delimiter = \"\\t\")\n",
    "dataset3 = pd.read_csv(\"data3.txt\", delimiter = \"\\t\")"
   ]
  },
  {
   "cell_type": "code",
   "execution_count": 19,
   "metadata": {},
   "outputs": [],
   "source": [
    "dataset1 = pd.read_csv(\"data1.txt\", delim_whitespace=True, dtype=str) # 32 rows x 5 variables (+ class, space separated, CR EOL)"
   ]
  },
  {
   "cell_type": "code",
   "execution_count": 20,
   "metadata": {},
   "outputs": [
    {
     "output_type": "execute_result",
     "data": {
      "text/plain": [
       "'00000'"
      ]
     },
     "metadata": {},
     "execution_count": 20
    }
   ],
   "source": [
    "dataset1.loc[0][0]"
   ]
  },
  {
   "cell_type": "code",
   "execution_count": 21,
   "metadata": {},
   "outputs": [
    {
     "output_type": "stream",
     "name": "stderr",
     "text": [
      "<ipython-input-21-8fabb802a3bc>:7: DeprecationWarning: The binary mode of fromstring is deprecated, as it behaves surprisingly on unicode inputs. Use frombuffer instead\n  np_bit_string = np.fromstring(bit_string,'u1') - ord('0')\n<ipython-input-21-8fabb802a3bc>:8: DeprecationWarning: The binary mode of fromstring is deprecated, as it behaves surprisingly on unicode inputs. Use frombuffer instead\n  np_output_string = np.fromstring(output_string,'u1') - ord('0')\n"
     ]
    }
   ],
   "source": [
    "np_data_set = []\n",
    "\n",
    "\n",
    "for item in dataset1.itertuples():\n",
    "    bit_string = str(item[1])\n",
    "    output_string = str(item[2])\n",
    "    np_bit_string = np.fromstring(bit_string,'u1') - ord('0')\n",
    "    np_output_string = np.fromstring(output_string,'u1') - ord('0')\n",
    "    # print(np_bit_string, np_output_string)\n",
    "    np_data_set.append([np_bit_string, np_output_string])"
   ]
  },
  {
   "cell_type": "code",
   "execution_count": 22,
   "metadata": {},
   "outputs": [
    {
     "output_type": "execute_result",
     "data": {
      "text/plain": [
       "False"
      ]
     },
     "metadata": {},
     "execution_count": 22
    }
   ],
   "source": [
    "def schema_model(schema_bitstring_array: 'np.ndarray', schema_target: 'np.ndarray', test_data_array: 'np.ndarray', test_target_result: 'np.ndarray') -> bool:\n",
    "    \"\"\"\n",
    "    This function handles np.ndarray of 1D, lists, that is to say.\n",
    "    : schema is the mask\n",
    "    : test is data from the dataset\n",
    "    \"\"\"\n",
    "\n",
    "    # we take the schmea (the values that are 1), and take values as per it from the test_data_array\n",
    "    # 0 to 5 is the schema (the 5th index is actually the 6th value, but numpy doesnt touch the last value. but only the value before that)\n",
    "    # ie: we use the schmea as a mask/ filter over the test data and extract those values (which are zeros or ones)\n",
    "\n",
    "    # print(schema_bitstring_array, \"schema_bitstring_array\")\n",
    "    # print(schema_bitstring_array[0:5], \"schema_bitstring_array[0:5]\")\n",
    "    # print(test_data_array, \"test_data_array\")\n",
    "    data_array = test_data_array[schema_bitstring_array == 1]\n",
    "    # print(data_array, \"filtered data\")\n",
    "    \n",
    "    # we use the sum the filtered data into an integer\n",
    "    sum_of_data_array = data_array.sum()\n",
    "    # print(sum_of_data_array)\n",
    "\n",
    "    # this is hypothesized output from the schema\n",
    "    schema_target_output = sum_of_data_array >= schema_target[0]\n",
    "\n",
    "    # compare against the actual output\n",
    "    actual_output = None \n",
    "    \n",
    "    if test_target_result[0] == 0:\n",
    "        actual_output = False\n",
    "    elif test_target_result[0] == 1:\n",
    "        actual_output = True\n",
    "    \n",
    "    does_both_match = actual_output and schema_target_output\n",
    "\n",
    "    # print(actual_output, schema_target_output, does_both_match)\n",
    "    return does_both_match\n",
    "\n",
    "\n",
    "\n",
    "# first 5 values have to be bool values, the 6th value has to be a value between 1 and 5\n",
    "random_matrix_array = np.random.randint(2,size=(1,5))\n",
    "random_matrix_array_2 = np.random.randint(2,size=(1,5))\n",
    "random_target = np.random.choice([0, 1], size=(1, 1)) # actual target output\n",
    "random_target_t = np.random.choice([0, 1, 2, 3, 4], size=(1, 1)) # hypothesized random output // np_data_set\n",
    "\n",
    "\n",
    "# print(\"random schema\", random_matrix_array[0], \"random sum threhold\", random_target_t[0])\n",
    "# print(\"actual data  \", random_matrix_array_2[0], \"output             \", random_target[0])\n",
    "# schema_model(schema_bitstring_array=random_matrix_array[0], schema_target=random_target_t[0], test_data_array=random_matrix_array_2[0], test_target_result=random_target[0])\n",
    "\n",
    "random_int = random.randrange(0, 30, 1)\n",
    "\n",
    "# print(\"random schema\", random_matrix_array[0], \"random sum threhold\", random_target_t[0])\n",
    "# print(\"actual data  \", np_data_set[random_int][0], \"output             \", np_data_set[random_int][1])\n",
    "\n",
    "schema_model(schema_bitstring_array=random_matrix_array[0], schema_target=random_target_t[0], test_data_array=np_data_set[random_int][0], test_target_result=np_data_set[random_int][1])"
   ]
  },
  {
   "cell_type": "code",
   "execution_count": 36,
   "metadata": {},
   "outputs": [
    {
     "output_type": "stream",
     "name": "stdout",
     "text": [
      "schema: [1 1 1 0 1], target: [170], value_map: [69 54 10 20 97]\nschema: [1 1 1 0 1], target: [3], value_map: [ 3 54 10 20 97]\n"
     ]
    }
   ],
   "source": [
    "def schema_model_v2(schema_bitstring_array: 'np.ndarray', schema_target: 'np.ndarray', schema_value_map: 'np.ndarray', test_data_array: 'np.ndarray', test_target_result: 'np.ndarray') -> bool:\n",
    "    \"\"\"\n",
    "    This function handles np.ndarray of 1D, lists, that is to say.\n",
    "    : schema is the mask\n",
    "    : test is data from the dataset\n",
    "    \"\"\"\n",
    "    # print(test_data_array, \" \", schema_value_map)\n",
    "\n",
    "    data_array = test_data_array[schema_bitstring_array == 1]\n",
    "    value_array = schema_value_map[schema_bitstring_array == 1]\n",
    "    mult_array = np.matmul(data_array, value_array)\n",
    "\n",
    "    # print(data_array, \"filtered data\")\n",
    "    \n",
    "    # we use the sum the filtered data into an integer\n",
    "    sum_of_data_array = mult_array.sum()\n",
    "    # print(sum_of_data_array)\n",
    "\n",
    "    # this is hypothesized output from the schema\n",
    "    schema_target_output = sum_of_data_array >= schema_target[0]\n",
    "\n",
    "    # compare against the actual output\n",
    "    actual_output = None \n",
    "    \n",
    "    if test_target_result[0] == 0:\n",
    "        actual_output = False\n",
    "    elif test_target_result[0] == 1:\n",
    "        actual_output = True\n",
    "    \n",
    "    does_both_match = actual_output and schema_target_output\n",
    "\n",
    "    # print(actual_output, schema_target_output, does_both_match)\n",
    "    return does_both_match\n",
    "\n",
    "#####################################################################\n",
    "\n",
    "class Chromosome:\n",
    "    def __init__(self):\n",
    "        # the schema for fitness function is the genome, it is an array of [[Bool, Bool, Bool, Bool, Bool], [1 to 5]]\n",
    "        self.dna_schema = []\n",
    "        self.dna_schema_value_map = []\n",
    "        self.dna_target = []\n",
    "        self.fitness = 0.0\n",
    "\n",
    "    def initialize(self) -> None:\n",
    "        random_matrix_array = np.random.randint(2,size=(1,5))\n",
    "        self.dna_schema = random_matrix_array[0]\n",
    "\n",
    "\n",
    "        random_matrix_array_2 = np.random.randint(100,size=(1,5))\n",
    "        self.dna_schema_value_map = random_matrix_array_2[0]\n",
    "\n",
    "        min_target = np.amin(random_matrix_array_2)\n",
    "        max_target = random.randint(min_target, random_matrix_array_2.sum())\n",
    "        np_random_target_2 = np.array([max_target])\n",
    "        self.dna_target = np_random_target_2\n",
    "\n",
    "    def initialize_with_values(self, _dna_schema, _dna_schema_value_map) -> None:\n",
    "        self.dna_schema = _dna_schema\n",
    "        self.dna_schema_value_map = _dna_schema_value_map\n",
    "        self.dna_target = []\n",
    "        self.fitness = 0.0\n",
    "\n",
    "        min_target = np.amin(self.dna_schema_value_map)\n",
    "        max_target = random.randint(min_target, self.dna_schema_value_map.sum())\n",
    "        np_random_target_2 = np.array([max_target])\n",
    "        self.dna_target = np_random_target_2\n",
    "\n",
    "\n",
    "    def calculate_fitness(self, actual_dataset, fitness_function) -> None:\n",
    "\n",
    "        for actual_data_string, actual_result in actual_dataset:\n",
    "            is_match = fitness_function(schema_bitstring_array=self.dna_schema, \n",
    "                                        schema_target=self.dna_target, \n",
    "                                        schema_value_map=self.dna_schema_value_map, \n",
    "                                        test_data_array=actual_data_string, \n",
    "                                        test_target_result=actual_result)\n",
    "            \n",
    "            if is_match:\n",
    "                self.fitness+=1\n",
    "\n",
    "        # print(self.fitness, self.dna_schema, self.dna_schema_value_map, self.dna_target)\n",
    "\n",
    "    def cross_over(self, mate_chromosome) -> list:\n",
    "        this_chromosome_schema_split = np.array_split(self.dna_schema, 2)\n",
    "        mate_chromosome_schema_split = np.array_split(mate_chromosome.dna_schema, 2)\n",
    "        child_a_schema = np.concatenate((this_chromosome_schema_split[0], mate_chromosome_schema_split[1]))\n",
    "        child_b_schema = np.concatenate((mate_chromosome_schema_split[0], this_chromosome_schema_split[1]))\n",
    "        clone_schema = copy.deepcopy(self.dna_schema)\n",
    "\n",
    "        this_chromosome_value_map_split = np.array_split(self.dna_schema_value_map, 2)\n",
    "        mate_chromosome_value_map_split = np.array_split(mate_chromosome.dna_schema_value_map, 2)\n",
    "        child_a_value_map = np.concatenate((this_chromosome_value_map_split[0], mate_chromosome_value_map_split[1]))\n",
    "        child_b_value_map = np.concatenate((mate_chromosome_value_map_split[0], this_chromosome_value_map_split[1]))\n",
    "        clone_value_map = copy.deepcopy(self.dna_schema_value_map)\n",
    "\n",
    "        child_a = Chromosome()\n",
    "        child_a.initialize_with_values(child_a_schema, child_a_value_map)\n",
    "\n",
    "        child_b = Chromosome()\n",
    "        child_b.initialize_with_values(child_b_schema, child_b_value_map)\n",
    "\n",
    "        child_clone = Chromosome()\n",
    "        child_clone.initialize_with_values(clone_schema, clone_value_map)\n",
    "\n",
    "        return [child_a, child_b, child_clone]\n",
    "        \n",
    "\n",
    "    def mutate_schema(self, _mutation_rate: int) -> None:\n",
    "        _mutation_rate_round_upped = np.ceil(_mutation_rate)\n",
    "        for count, gene in enumerate(self.dna_schema):\n",
    "            random_int = random.randint(0, 100)\n",
    "            if random_int <= _mutation_rate_round_upped:\n",
    "                gene_inversed = np.where((gene==0)|(gene==1), gene^1, gene) # XOR operator\n",
    "                self.dna_schema[count] = gene_inversed\n",
    "\n",
    "    def mutate_value_map(self, _mutation_rate: int) -> None:\n",
    "        _mutation_rate_round_upped = np.ceil(_mutation_rate)\n",
    "        for count, gene in enumerate(self.dna_schema_value_map):\n",
    "            random_int = random.randint(0, 100)\n",
    "            if random_int <= _mutation_rate_round_upped:\n",
    "                random_arr = np.random.randint(100,size=(1,1))\n",
    "                random_value = random_arr[0][0]\n",
    "                self.dna_schema_value_map[count] = random_value\n",
    "\n",
    "                min_target = np.amin(random_arr)\n",
    "                max_target = random.randint(min_target, random_arr.sum())\n",
    "                np_random_target = np.array([max_target])\n",
    "                self.dna_target = np_random_target\n",
    "\n",
    "    def __str__(self):\n",
    "        return f\"schema: {self.dna_schema}, target: {self.dna_target}, value_map: { self.dna_schema_value_map }\"\n",
    "\n",
    "    \n",
    "    def __repr__(self):\n",
    "        return f\"schema: {self.dna_schema}, target: {self.dna_target}, value_map: { self.dna_schema_value_map }\"\n",
    "\n",
    "\n",
    "#####################################################################\n",
    "\n",
    "class Popultion:\n",
    "    def __init__(self, _mutation_rate, _population_size, _max_generations):\n",
    "        self.mutation_rate = _mutation_rate\n",
    "        self.population_size = _population_size\n",
    "        self.generations = _max_generations\n",
    "\n",
    "        self.population_list = []\n",
    "        self.mating_pool = []\n",
    "        self.best_Chromosome = Chromosome()\n",
    "        self.fitness_records = []\n",
    "\n",
    "\n",
    "\n",
    "\n",
    "x = Chromosome()\n",
    "x.initialize()\n",
    "print(x)\n",
    "x.mutate_value_map(2.1)\n",
    "print(x)"
   ]
  }
 ]
}